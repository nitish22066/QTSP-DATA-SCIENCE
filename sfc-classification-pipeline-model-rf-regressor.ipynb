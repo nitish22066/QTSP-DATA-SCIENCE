{
 "cells": [
  {
   "cell_type": "code",
   "execution_count": 1,
   "id": "01894b14",
   "metadata": {
    "_cell_guid": "b1076dfc-b9ad-4769-8c92-a6c4dae69d19",
    "_uuid": "8f2839f25d086af736a60e9eeb907d3b93b6e0e5",
    "execution": {
     "iopub.execute_input": "2021-08-08T18:11:57.237676Z",
     "iopub.status.busy": "2021-08-08T18:11:57.236827Z",
     "iopub.status.idle": "2021-08-08T18:11:57.243067Z",
     "shell.execute_reply": "2021-08-08T18:11:57.242351Z",
     "shell.execute_reply.started": "2021-08-08T18:07:10.977198Z"
    },
    "papermill": {
     "duration": 0.033064,
     "end_time": "2021-08-08T18:11:57.243250",
     "exception": false,
     "start_time": "2021-08-08T18:11:57.210186",
     "status": "completed"
    },
    "tags": []
   },
   "outputs": [
    {
     "name": "stdout",
     "output_type": "stream",
     "text": [
      "/kaggle/input/sf-crime/train.csv.zip\n",
      "/kaggle/input/sf-crime/sampleSubmission.csv.zip\n",
      "/kaggle/input/sf-crime/test.csv.zip\n"
     ]
    }
   ],
   "source": [
    "# This Python 3 environment comes with many helpful analytics libraries installed\n",
    "# It is defined by the kaggle/python Docker image: https://github.com/kaggle/docker-python\n",
    "# For example, here's several helpful packages to load\n",
    "\n",
    "import numpy as np # linear algebra\n",
    "import pandas as pd # data processing, CSV file I/O (e.g. pd.read_csv)\n",
    "\n",
    "# Input data files are available in the read-only \"../input/\" directory\n",
    "# For example, running this (by clicking run or pressing Shift+Enter) will list all files under the input directory\n",
    "\n",
    "import os\n",
    "for dirname, _, filenames in os.walk('/kaggle/input'):\n",
    "    for filename in filenames:\n",
    "        print(os.path.join(dirname, filename))\n",
    "\n",
    "# You can write up to 20GB to the current directory (/kaggle/working/) that gets preserved as output when you create a version using \"Save & Run All\" \n",
    "# You can also write temporary files to /kaggle/temp/, but they won't be saved outside of the current session"
   ]
  },
  {
   "cell_type": "code",
   "execution_count": 2,
   "id": "5fb87cc7",
   "metadata": {
    "execution": {
     "iopub.execute_input": "2021-08-08T18:11:57.278146Z",
     "iopub.status.busy": "2021-08-08T18:11:57.277476Z",
     "iopub.status.idle": "2021-08-08T18:12:04.060538Z",
     "shell.execute_reply": "2021-08-08T18:12:04.060014Z",
     "shell.execute_reply.started": "2021-08-08T18:07:11.002287Z"
    },
    "papermill": {
     "duration": 6.802639,
     "end_time": "2021-08-08T18:12:04.060690",
     "exception": false,
     "start_time": "2021-08-08T18:11:57.258051",
     "status": "completed"
    },
    "tags": []
   },
   "outputs": [],
   "source": [
    "\n",
    "import pandas as pd\n",
    "import numpy as np\n",
    "import matplotlib \n",
    "import matplotlib.pyplot as plt\n",
    "import datetime as dt\n",
    "import seaborn as sns\n",
    "import xgboost as xgb\n",
    "from sklearn.preprocessing import OneHotEncoder\n",
    "from sklearn.model_selection import train_test_split\n",
    "from sklearn.metrics import mean_absolute_error\n",
    "from sklearn.metrics import log_loss\n",
    "import tensorflow as tf\n",
    "from keras.models import Sequential\n",
    "from keras.layers import Dense,Activation,Dropout"
   ]
  },
  {
   "cell_type": "code",
   "execution_count": 3,
   "id": "0461fef1",
   "metadata": {
    "execution": {
     "iopub.execute_input": "2021-08-08T18:12:04.094278Z",
     "iopub.status.busy": "2021-08-08T18:12:04.093566Z",
     "iopub.status.idle": "2021-08-08T18:12:11.829544Z",
     "shell.execute_reply": "2021-08-08T18:12:11.828865Z",
     "shell.execute_reply.started": "2021-08-08T18:07:11.015840Z"
    },
    "papermill": {
     "duration": 7.754724,
     "end_time": "2021-08-08T18:12:11.829683",
     "exception": false,
     "start_time": "2021-08-08T18:12:04.074959",
     "status": "completed"
    },
    "tags": []
   },
   "outputs": [],
   "source": [
    "sample=pd.read_csv(\"/kaggle/input/sf-crime/sampleSubmission.csv.zip\")\n",
    "train= pd.read_csv(\"/kaggle/input/sf-crime/train.csv.zip\")\n",
    "test= pd.read_csv(\"/kaggle/input/sf-crime/test.csv.zip\")\n"
   ]
  },
  {
   "cell_type": "markdown",
   "id": "550ae22c",
   "metadata": {
    "papermill": {
     "duration": 0.013478,
     "end_time": "2021-08-08T18:12:11.856908",
     "exception": false,
     "start_time": "2021-08-08T18:12:11.843430",
     "status": "completed"
    },
    "tags": []
   },
   "source": [
    "Step1-Convert catedorical columns to numerical representations"
   ]
  },
  {
   "cell_type": "code",
   "execution_count": 4,
   "id": "c328a035",
   "metadata": {
    "execution": {
     "iopub.execute_input": "2021-08-08T18:12:11.896958Z",
     "iopub.status.busy": "2021-08-08T18:12:11.896285Z",
     "iopub.status.idle": "2021-08-08T18:12:12.669840Z",
     "shell.execute_reply": "2021-08-08T18:12:12.670392Z",
     "shell.execute_reply.started": "2021-08-08T18:07:18.894221Z"
    },
    "papermill": {
     "duration": 0.799936,
     "end_time": "2021-08-08T18:12:12.670582",
     "exception": false,
     "start_time": "2021-08-08T18:12:11.870646",
     "status": "completed"
    },
    "tags": []
   },
   "outputs": [],
   "source": [
    "\n",
    "train = pd.concat([train, pd.get_dummies(train['DayOfWeek'])], axis=1)\n",
    "train.drop('DayOfWeek', axis=1, inplace=True)\n",
    "\n",
    "test = pd.concat([test, pd.get_dummies(test['DayOfWeek'])], axis=1)\n",
    "test.drop('DayOfWeek', axis=1, inplace=True)\n",
    "train = pd.concat([train, pd.get_dummies(train['PdDistrict'])], axis=1)\n",
    "train.drop('PdDistrict', axis=1, inplace=True)\n",
    "\n",
    "test = pd.concat([test, pd.get_dummies(test['PdDistrict'])], axis=1)\n",
    "test.drop('PdDistrict', axis=1, inplace=True)\n",
    "train.drop(['Address', 'Descript', 'Resolution', 'Dates'], axis=1, inplace=True)\n",
    "\n",
    "test.drop(['Address', 'Dates'], axis=1, inplace=True)\n"
   ]
  },
  {
   "cell_type": "code",
   "execution_count": null,
   "id": "0972a9ee",
   "metadata": {
    "papermill": {
     "duration": 0.013642,
     "end_time": "2021-08-08T18:12:12.697852",
     "exception": false,
     "start_time": "2021-08-08T18:12:12.684210",
     "status": "completed"
    },
    "tags": []
   },
   "outputs": [],
   "source": []
  },
  {
   "cell_type": "code",
   "execution_count": null,
   "id": "c74942fe",
   "metadata": {
    "papermill": {
     "duration": 0.013129,
     "end_time": "2021-08-08T18:12:12.724388",
     "exception": false,
     "start_time": "2021-08-08T18:12:12.711259",
     "status": "completed"
    },
    "tags": []
   },
   "outputs": [],
   "source": []
  },
  {
   "cell_type": "code",
   "execution_count": null,
   "id": "eca86ddf",
   "metadata": {
    "papermill": {
     "duration": 0.013401,
     "end_time": "2021-08-08T18:12:12.751323",
     "exception": false,
     "start_time": "2021-08-08T18:12:12.737922",
     "status": "completed"
    },
    "tags": []
   },
   "outputs": [],
   "source": []
  },
  {
   "cell_type": "code",
   "execution_count": 5,
   "id": "d768718e",
   "metadata": {
    "execution": {
     "iopub.execute_input": "2021-08-08T18:12:12.782955Z",
     "iopub.status.busy": "2021-08-08T18:12:12.782145Z",
     "iopub.status.idle": "2021-08-08T18:12:12.806618Z",
     "shell.execute_reply": "2021-08-08T18:12:12.807178Z",
     "shell.execute_reply.started": "2021-08-08T18:07:19.780829Z"
    },
    "papermill": {
     "duration": 0.042063,
     "end_time": "2021-08-08T18:12:12.807355",
     "exception": false,
     "start_time": "2021-08-08T18:12:12.765292",
     "status": "completed"
    },
    "tags": []
   },
   "outputs": [
    {
     "data": {
      "text/html": [
       "<div>\n",
       "<style scoped>\n",
       "    .dataframe tbody tr th:only-of-type {\n",
       "        vertical-align: middle;\n",
       "    }\n",
       "\n",
       "    .dataframe tbody tr th {\n",
       "        vertical-align: top;\n",
       "    }\n",
       "\n",
       "    .dataframe thead th {\n",
       "        text-align: right;\n",
       "    }\n",
       "</style>\n",
       "<table border=\"1\" class=\"dataframe\">\n",
       "  <thead>\n",
       "    <tr style=\"text-align: right;\">\n",
       "      <th></th>\n",
       "      <th>Id</th>\n",
       "      <th>X</th>\n",
       "      <th>Y</th>\n",
       "      <th>Friday</th>\n",
       "      <th>Monday</th>\n",
       "      <th>Saturday</th>\n",
       "      <th>Sunday</th>\n",
       "      <th>Thursday</th>\n",
       "      <th>Tuesday</th>\n",
       "      <th>Wednesday</th>\n",
       "      <th>BAYVIEW</th>\n",
       "      <th>CENTRAL</th>\n",
       "      <th>INGLESIDE</th>\n",
       "      <th>MISSION</th>\n",
       "      <th>NORTHERN</th>\n",
       "      <th>PARK</th>\n",
       "      <th>RICHMOND</th>\n",
       "      <th>SOUTHERN</th>\n",
       "      <th>TARAVAL</th>\n",
       "      <th>TENDERLOIN</th>\n",
       "    </tr>\n",
       "  </thead>\n",
       "  <tbody>\n",
       "    <tr>\n",
       "      <th>0</th>\n",
       "      <td>0</td>\n",
       "      <td>-122.399588</td>\n",
       "      <td>37.735051</td>\n",
       "      <td>0</td>\n",
       "      <td>0</td>\n",
       "      <td>0</td>\n",
       "      <td>1</td>\n",
       "      <td>0</td>\n",
       "      <td>0</td>\n",
       "      <td>0</td>\n",
       "      <td>1</td>\n",
       "      <td>0</td>\n",
       "      <td>0</td>\n",
       "      <td>0</td>\n",
       "      <td>0</td>\n",
       "      <td>0</td>\n",
       "      <td>0</td>\n",
       "      <td>0</td>\n",
       "      <td>0</td>\n",
       "      <td>0</td>\n",
       "    </tr>\n",
       "    <tr>\n",
       "      <th>1</th>\n",
       "      <td>1</td>\n",
       "      <td>-122.391523</td>\n",
       "      <td>37.732432</td>\n",
       "      <td>0</td>\n",
       "      <td>0</td>\n",
       "      <td>0</td>\n",
       "      <td>1</td>\n",
       "      <td>0</td>\n",
       "      <td>0</td>\n",
       "      <td>0</td>\n",
       "      <td>1</td>\n",
       "      <td>0</td>\n",
       "      <td>0</td>\n",
       "      <td>0</td>\n",
       "      <td>0</td>\n",
       "      <td>0</td>\n",
       "      <td>0</td>\n",
       "      <td>0</td>\n",
       "      <td>0</td>\n",
       "      <td>0</td>\n",
       "    </tr>\n",
       "    <tr>\n",
       "      <th>2</th>\n",
       "      <td>2</td>\n",
       "      <td>-122.426002</td>\n",
       "      <td>37.792212</td>\n",
       "      <td>0</td>\n",
       "      <td>0</td>\n",
       "      <td>0</td>\n",
       "      <td>1</td>\n",
       "      <td>0</td>\n",
       "      <td>0</td>\n",
       "      <td>0</td>\n",
       "      <td>0</td>\n",
       "      <td>0</td>\n",
       "      <td>0</td>\n",
       "      <td>0</td>\n",
       "      <td>1</td>\n",
       "      <td>0</td>\n",
       "      <td>0</td>\n",
       "      <td>0</td>\n",
       "      <td>0</td>\n",
       "      <td>0</td>\n",
       "    </tr>\n",
       "    <tr>\n",
       "      <th>3</th>\n",
       "      <td>3</td>\n",
       "      <td>-122.437394</td>\n",
       "      <td>37.721412</td>\n",
       "      <td>0</td>\n",
       "      <td>0</td>\n",
       "      <td>0</td>\n",
       "      <td>1</td>\n",
       "      <td>0</td>\n",
       "      <td>0</td>\n",
       "      <td>0</td>\n",
       "      <td>0</td>\n",
       "      <td>0</td>\n",
       "      <td>1</td>\n",
       "      <td>0</td>\n",
       "      <td>0</td>\n",
       "      <td>0</td>\n",
       "      <td>0</td>\n",
       "      <td>0</td>\n",
       "      <td>0</td>\n",
       "      <td>0</td>\n",
       "    </tr>\n",
       "    <tr>\n",
       "      <th>4</th>\n",
       "      <td>4</td>\n",
       "      <td>-122.437394</td>\n",
       "      <td>37.721412</td>\n",
       "      <td>0</td>\n",
       "      <td>0</td>\n",
       "      <td>0</td>\n",
       "      <td>1</td>\n",
       "      <td>0</td>\n",
       "      <td>0</td>\n",
       "      <td>0</td>\n",
       "      <td>0</td>\n",
       "      <td>0</td>\n",
       "      <td>1</td>\n",
       "      <td>0</td>\n",
       "      <td>0</td>\n",
       "      <td>0</td>\n",
       "      <td>0</td>\n",
       "      <td>0</td>\n",
       "      <td>0</td>\n",
       "      <td>0</td>\n",
       "    </tr>\n",
       "  </tbody>\n",
       "</table>\n",
       "</div>"
      ],
      "text/plain": [
       "   Id           X          Y  Friday  Monday  Saturday  Sunday  Thursday  \\\n",
       "0   0 -122.399588  37.735051       0       0         0       1         0   \n",
       "1   1 -122.391523  37.732432       0       0         0       1         0   \n",
       "2   2 -122.426002  37.792212       0       0         0       1         0   \n",
       "3   3 -122.437394  37.721412       0       0         0       1         0   \n",
       "4   4 -122.437394  37.721412       0       0         0       1         0   \n",
       "\n",
       "   Tuesday  Wednesday  BAYVIEW  CENTRAL  INGLESIDE  MISSION  NORTHERN  PARK  \\\n",
       "0        0          0        1        0          0        0         0     0   \n",
       "1        0          0        1        0          0        0         0     0   \n",
       "2        0          0        0        0          0        0         1     0   \n",
       "3        0          0        0        0          1        0         0     0   \n",
       "4        0          0        0        0          1        0         0     0   \n",
       "\n",
       "   RICHMOND  SOUTHERN  TARAVAL  TENDERLOIN  \n",
       "0         0         0        0           0  \n",
       "1         0         0        0           0  \n",
       "2         0         0        0           0  \n",
       "3         0         0        0           0  \n",
       "4         0         0        0           0  "
      ]
     },
     "execution_count": 5,
     "metadata": {},
     "output_type": "execute_result"
    }
   ],
   "source": [
    "test.head()"
   ]
  },
  {
   "cell_type": "markdown",
   "id": "c971234c",
   "metadata": {
    "papermill": {
     "duration": 0.014235,
     "end_time": "2021-08-08T18:12:12.835852",
     "exception": false,
     "start_time": "2021-08-08T18:12:12.821617",
     "status": "completed"
    },
    "tags": []
   },
   "source": []
  },
  {
   "cell_type": "code",
   "execution_count": 6,
   "id": "5e138c4b",
   "metadata": {
    "execution": {
     "iopub.execute_input": "2021-08-08T18:12:12.867321Z",
     "iopub.status.busy": "2021-08-08T18:12:12.866699Z",
     "iopub.status.idle": "2021-08-08T18:12:13.239207Z",
     "shell.execute_reply": "2021-08-08T18:12:13.238596Z",
     "shell.execute_reply.started": "2021-08-08T18:07:19.809369Z"
    },
    "papermill": {
     "duration": 0.389212,
     "end_time": "2021-08-08T18:12:13.239352",
     "exception": false,
     "start_time": "2021-08-08T18:12:12.850140",
     "status": "completed"
    },
    "tags": []
   },
   "outputs": [],
   "source": [
    "from sklearn.model_selection import train_test_split\n",
    "X=train.drop(['Category'],axis=1)\n",
    "\n",
    "y=train['Category']\n",
    "y=pd.get_dummies(y)\n",
    "from sklearn.model_selection import train_test_split\n",
    "X_train,X_test,y_train,y_test=train_test_split(X,y,test_size=0.25)\n"
   ]
  },
  {
   "cell_type": "code",
   "execution_count": null,
   "id": "d588df13",
   "metadata": {
    "papermill": {
     "duration": 0.014308,
     "end_time": "2021-08-08T18:12:13.267928",
     "exception": false,
     "start_time": "2021-08-08T18:12:13.253620",
     "status": "completed"
    },
    "tags": []
   },
   "outputs": [],
   "source": []
  },
  {
   "cell_type": "markdown",
   "id": "1e575002",
   "metadata": {
    "papermill": {
     "duration": 0.014384,
     "end_time": "2021-08-08T18:12:13.296676",
     "exception": false,
     "start_time": "2021-08-08T18:12:13.282292",
     "status": "completed"
    },
    "tags": []
   },
   "source": [
    "Using pipeline model with random forest regressor"
   ]
  },
  {
   "cell_type": "code",
   "execution_count": 7,
   "id": "aef579ae",
   "metadata": {
    "execution": {
     "iopub.execute_input": "2021-08-08T18:12:13.334200Z",
     "iopub.status.busy": "2021-08-08T18:12:13.333500Z",
     "iopub.status.idle": "2021-08-08T18:19:48.926191Z",
     "shell.execute_reply": "2021-08-08T18:19:48.926819Z"
    },
    "papermill": {
     "duration": 455.615973,
     "end_time": "2021-08-08T18:19:48.927078",
     "exception": false,
     "start_time": "2021-08-08T18:12:13.311105",
     "status": "completed"
    },
    "tags": []
   },
   "outputs": [],
   "source": [
    "\n",
    "\n",
    "from sklearn.compose import ColumnTransformer\n",
    "from sklearn.pipeline import Pipeline\n",
    "from sklearn.impute import SimpleImputer\n",
    "from sklearn.preprocessing import OneHotEncoder\n",
    "from sklearn.ensemble import RandomForestRegressor\n",
    "\n",
    "from sklearn.metrics import  log_loss\n",
    "\n",
    "\n",
    "categorical_cols = [cname for cname in X_train.columns if\n",
    "                    \n",
    "                    X_train[cname].dtype == \"object\"]\n",
    "numerical_cols = [cname for cname in X_train.columns if \n",
    "                X_train[cname].dtype in ['int64', 'float64']]\n",
    "\n",
    "my_cols = categorical_cols + numerical_cols\n",
    "numerical_transformer = SimpleImputer(strategy='constant')\n",
    "categorical_transformer = Pipeline(steps=[\n",
    "    ('imputer', SimpleImputer(strategy='most_frequent')),\n",
    "    ('onehot', OneHotEncoder(handle_unknown='ignore'))\n",
    "])\n",
    "\n",
    "\n",
    "\n",
    "preprocessor = ColumnTransformer(transformers=[('num', numerical_transformer, numerical_cols),('cat', categorical_transformer, categorical_cols)])\n",
    "model = RandomForestRegressor(n_estimators=100, random_state=0)\n",
    "clf = Pipeline(steps=[('preprocessor', preprocessor),('model', model)])\n",
    "\n",
    "clf.fit(X_train, y_train)\n",
    "\n",
    "\n",
    "preds = clf.predict(test.drop('Id',axis=1))\n",
    "\n",
    "\n"
   ]
  },
  {
   "cell_type": "code",
   "execution_count": null,
   "id": "ebafdd3d",
   "metadata": {
    "papermill": {
     "duration": 0.013867,
     "end_time": "2021-08-08T18:19:48.956144",
     "exception": false,
     "start_time": "2021-08-08T18:19:48.942277",
     "status": "completed"
    },
    "tags": []
   },
   "outputs": [],
   "source": []
  },
  {
   "cell_type": "code",
   "execution_count": 8,
   "id": "7898a0f0",
   "metadata": {
    "execution": {
     "iopub.execute_input": "2021-08-08T18:19:49.043088Z",
     "iopub.status.busy": "2021-08-08T18:19:49.037932Z",
     "iopub.status.idle": "2021-08-08T18:19:49.303801Z",
     "shell.execute_reply": "2021-08-08T18:19:49.303145Z"
    },
    "papermill": {
     "duration": 0.333637,
     "end_time": "2021-08-08T18:19:49.303938",
     "exception": false,
     "start_time": "2021-08-08T18:19:48.970301",
     "status": "completed"
    },
    "tags": []
   },
   "outputs": [],
   "source": [
    "from sklearn.preprocessing import LabelEncoder\n",
    "LB = LabelEncoder()\n",
    "tar = LB.fit_transform(train['Category'])"
   ]
  },
  {
   "cell_type": "code",
   "execution_count": 9,
   "id": "b00c842f",
   "metadata": {
    "execution": {
     "iopub.execute_input": "2021-08-08T18:19:49.335810Z",
     "iopub.status.busy": "2021-08-08T18:19:49.335179Z",
     "iopub.status.idle": "2021-08-08T18:20:34.684702Z",
     "shell.execute_reply": "2021-08-08T18:20:34.683550Z"
    },
    "papermill": {
     "duration": 45.366531,
     "end_time": "2021-08-08T18:20:34.684910",
     "exception": false,
     "start_time": "2021-08-08T18:19:49.318379",
     "status": "completed"
    },
    "tags": []
   },
   "outputs": [],
   "source": [
    "Submission = pd.DataFrame(preds, columns = LB.inverse_transform(np.linspace(0, 38, 39, dtype='int16')),index=test.index) \n",
    "\n",
    "Submission.to_csv('Submission.csv', index_label = 'Id')"
   ]
  },
  {
   "cell_type": "code",
   "execution_count": null,
   "id": "4c01fcc4",
   "metadata": {
    "papermill": {
     "duration": 0.014017,
     "end_time": "2021-08-08T18:20:34.713731",
     "exception": false,
     "start_time": "2021-08-08T18:20:34.699714",
     "status": "completed"
    },
    "tags": []
   },
   "outputs": [],
   "source": []
  }
 ],
 "metadata": {
  "kernelspec": {
   "display_name": "Python 3",
   "language": "python",
   "name": "python3"
  },
  "language_info": {
   "codemirror_mode": {
    "name": "ipython",
    "version": 3
   },
   "file_extension": ".py",
   "mimetype": "text/x-python",
   "name": "python",
   "nbconvert_exporter": "python",
   "pygments_lexer": "ipython3",
   "version": "3.7.10"
  },
  "papermill": {
   "default_parameters": {},
   "duration": 527.982576,
   "end_time": "2021-08-08T18:20:36.947522",
   "environment_variables": {},
   "exception": null,
   "input_path": "__notebook__.ipynb",
   "output_path": "__notebook__.ipynb",
   "parameters": {},
   "start_time": "2021-08-08T18:11:48.964946",
   "version": "2.3.3"
  }
 },
 "nbformat": 4,
 "nbformat_minor": 5
}
